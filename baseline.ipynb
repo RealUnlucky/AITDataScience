{
 "cells": [
  {
   "cell_type": "markdown",
   "id": "b9b070ec",
   "metadata": {},
   "source": [
    "**Baseline: Simple Bag of Words Implementation**\n",
    "This is a model that uses BoW and Naive Bayes. Basically, it gets every word, matches it with a value, and uses Naive Bayes to predict the label based on the previous values attached with the word. If its above a certain threshhold, it will be a certain result."
   ]
  },
  {
   "cell_type": "code",
   "execution_count": 42,
   "id": "dd76f9d8",
   "metadata": {},
   "outputs": [],
   "source": [
    "import pandas as pd\n",
    "from sklearn.feature_extraction.text import CountVectorizer\n",
    "from sklearn.model_selection import train_test_split\n",
    "from sklearn.naive_bayes import MultinomialNB\n",
    "from sklearn.metrics import precision_score, recall_score, f1_score"
   ]
  },
  {
   "cell_type": "code",
   "execution_count": 43,
   "id": "cfef532a",
   "metadata": {},
   "outputs": [],
   "source": [
    "#import as a pandas file\n",
    "\n",
    "tinder = pd.read_csv(r'tinderdata\\tinder_google_play_reviews.csv')\n",
    "\n",
    "amazon = pd.read_csv(r'amazondata\\Reviews.csv')\n",
    "\n",
    "tinder_df = tinder.drop(columns=[\n",
    "    'userName', 'userImage', 'reviewCreatedVersion', 'at', 'replyContent', 'repliedAt', 'appVersion'\n",
    "])\n",
    "amazon_df = amazon.drop(columns=[\n",
    "    'ProductId', 'UserId', 'ProfileName', 'Time'\n",
    "])\n",
    "classes = [\"Not Satisfied\", \"Somewhat Satisfied\", \"Satisfied\"]\n",
    "labels_class = [0, 1, 2]\n",
    "class2id = {class_:id for id, class_ in enumerate(classes)}\n",
    "id2class = {id:class_ for class_, id in class2id.items()}\n"
   ]
  },
  {
   "cell_type": "markdown",
   "id": "6ea1e5ab",
   "metadata": {},
   "source": [
    "**Quick Preprocessing (Same as deBerta)**"
   ]
  },
  {
   "cell_type": "code",
   "execution_count": 44,
   "id": "73c046bd",
   "metadata": {},
   "outputs": [
    {
     "name": "stdout",
     "output_type": "stream",
     "text": [
      "(568454, 6)\n"
     ]
    }
   ],
   "source": [
    "\n",
    "import spacy\n",
    "import re\n",
    "\n",
    "nlp = spacy.load(\"en_core_web_sm\")# Load English model that defines lemmatization and stopwords\n",
    "\n",
    "def stop_words_and_lemmatize_texts(texts):\n",
    "    lemmatized_texts = []\n",
    "    for doc in nlp.pipe(texts, batch_size=1000):\n",
    "        filtered_lemmas = [\n",
    "            token.lemma_ for token in doc\n",
    "            if not token.is_punct and not token.is_space and not token.is_stop\n",
    "        ]\n",
    "        lemmatized_texts.append(\" \".join(filtered_lemmas))\n",
    "    return lemmatized_texts\n",
    "\n",
    "def clean_text(text):\n",
    "    if pd.isnull(text):\n",
    "        return \"\"\n",
    "\n",
    "    text = text.lower()  # Lowercase\n",
    "    text = re.sub(r'http\\S+|www\\S+', '', text)  # Remove URLs\n",
    "    text = re.sub(r'<.*?>', '', text)  # Remove HTML tags\n",
    "    text = re.sub(r'[^a-z0-9\\s.,!?]', '', text)  # Remove special chars (keep basic punctuation)\n",
    "    text = re.sub(r'\\s+', ' ', text)  # Remove excessive whitespace\n",
    "    return text.strip()\n",
    "\n",
    "def clean_dataframe(df, text_column):\n",
    "    df = df.copy()  # make an explicit copy to avoid chained assignment issues\n",
    "    df.loc[:, text_column] = df[text_column].astype(str).apply(clean_text)  # Clean with regex\n",
    "    df.loc[:, text_column] = stop_words_and_lemmatize_texts(df[text_column])  # Lemmatize & remove stopwords\n",
    "    return df\n",
    "\n",
    "print(amazon_df.shape)\n",
    "# Drop duplicates based on the 'text' column\n",
    "a_df_unique = amazon_df.drop_duplicates(subset='Text')\n",
    "t_df_unique = tinder_df.drop_duplicates(subset='content')\n",
    "\n",
    "# print(a_df_unique[\"Score\"].value_counts())\n",
    "\n",
    "#===================================================\n",
    "#2 Drop 0 rated helpful reviews. Reviews should be rated helpful at least.\n",
    "\n",
    "a_df_filtered = a_df_unique[a_df_unique['HelpfulnessDenominator'] <= (a_df_unique['HelpfulnessNumerator']*2)] #Basically, get rid of all rows that have less than 1:2 helpful to non-helpful reviews. \n",
    "a_df_filtered_2 = a_df_filtered[a_df_filtered['HelpfulnessNumerator'] != 0]\n",
    "\n",
    "t_df_filtered = t_df_unique[t_df_unique['thumbsUpCount'] != 0]\n",
    "\n",
    "# Would cut 560,000 to 170,000\n",
    "#===================================================\n",
    "\n",
    "# Extra: Miniature version of dataset to test smaller chunks of data in the interest of time and my computer's health\n",
    "percent_used = 0.001\n",
    "mini_amazon_df = a_df_filtered_2.sample(frac=percent_used, random_state=42)\n",
    "mini_tinder_df = t_df_filtered.sample(frac=percent_used, random_state=42)\n",
    "#===================================================\n",
    "\n",
    "#3 standardize all text (lemmatize and drop stopwords)\n",
    "a_df_cleaned = clean_dataframe(mini_amazon_df, \"Text\")\n",
    "t_df_cleaned = clean_dataframe(mini_tinder_df, \"content\")\n",
    "\n",
    "#===================================================\n",
    "\n",
    "# 4. Bin into classes using pd.cut, converting previous scores of 1-5 to a class 0, 1, or 2 (not saitsfied, somewhat satisfied, satisfied)\n",
    "\n",
    "a_df_cleaned['Satisfaction'] = pd.cut(\n",
    "    a_df_cleaned['Score'], bins=[0, 3, 4, 5],\n",
    "    labels=classes, right=True, include_lowest=True\n",
    ")\n",
    "t_df_cleaned['Satisfaction'] = pd.cut(\n",
    "    t_df_cleaned['score'], bins=[0, 3, 4, 5],\n",
    "    labels=classes, right=True, include_lowest=True\n",
    ")\n",
    "\n",
    "# Map satisfaction text to int labels\n",
    "\n",
    "a_df_cleaned['Satisfaction'] = a_df_cleaned['Satisfaction'].astype(str)\n",
    "t_df_cleaned['Satisfaction'] = t_df_cleaned['Satisfaction'].astype(str)\n",
    "\n",
    "a_df_cleaned[\"label\"] = a_df_cleaned[\"Satisfaction\"].map(class2id).astype(int)\n",
    "t_df_cleaned[\"label\"] = t_df_cleaned[\"Satisfaction\"].map(class2id).astype(int)\n",
    "\n",
    "# Drop any rows with missing labels (in case of mapping issues)\n",
    "a_df_cleaned = a_df_cleaned.dropna(subset=[\"label\"])\n",
    "t_df_cleaned = t_df_cleaned.dropna(subset=[\"label\"])"
   ]
  },
  {
   "cell_type": "markdown",
   "id": "efb66edd",
   "metadata": {},
   "source": [
    "**Finish processing, make train and test, and run predictions**"
   ]
  },
  {
   "cell_type": "code",
   "execution_count": 45,
   "id": "5a600a44",
   "metadata": {},
   "outputs": [],
   "source": [
    "#Arrange and split the data\n",
    "combined_text = pd.concat([a_df_cleaned[\"Text\"], t_df_cleaned[\"content\"]], ignore_index=True)\n",
    "combined_labels = pd.concat([a_df_cleaned[\"label\"], t_df_cleaned[\"label\"]], ignore_index=True)\n",
    "\n",
    "df = pd.DataFrame({\"text\": combined_text, \"label\": combined_labels})\n",
    "\n",
    "\n",
    "examples = df[\"text\"].values\n",
    "Y_true = df[\"label\"].values\n",
    "\n",
    "X_train, X_test, y_train, y_test = train_test_split(examples, Y_true, test_size=0.05, random_state=42)"
   ]
  },
  {
   "cell_type": "code",
   "execution_count": 46,
   "id": "3232fbc0",
   "metadata": {},
   "outputs": [
    {
     "name": "stdout",
     "output_type": "stream",
     "text": [
      "RESULTS LOG:\n",
      "F1: 0.6593406593406594\n",
      "MACROS: Precision: 0.4761904761904762  Recall: 0.5555555555555556 \n",
      "MICROS: Precision: 0.7142857142857143  Recall: 0.7142857142857143 \n"
     ]
    },
    {
     "name": "stderr",
     "output_type": "stream",
     "text": [
      "c:\\Users\\thato\\miniconda3\\envs\\semeval1\\Lib\\site-packages\\sklearn\\metrics\\_classification.py:1531: UndefinedMetricWarning: Precision is ill-defined and being set to 0.0 in labels with no predicted samples. Use `zero_division` parameter to control this behavior.\n",
      "  _warn_prf(average, modifier, f\"{metric.capitalize()} is\", len(result))\n"
     ]
    }
   ],
   "source": [
    "\n",
    "#Bag of Words\n",
    "vectorizer = CountVectorizer()\n",
    "X_train_bow = vectorizer.fit_transform(X_train)\n",
    "X_test_bow = vectorizer.transform(X_test)\n",
    "\n",
    "#NaiveBayes Classifier\n",
    "nb_clf = MultinomialNB()\n",
    "nb_clf.fit(X_train_bow, y_train)\n",
    "\n",
    "#Predict and Score\n",
    "y_pred = nb_clf.predict(X_test_bow)\n",
    "\n",
    "print(f\"RESULTS LOG:\")\n",
    "\n",
    "print(f\"F1: {f1_score(y_test, y_pred, average='weighted')}\")\n",
    "precision_macro = precision_score(y_test, y_pred, average='macro')\n",
    "recall_macro = recall_score(y_test, y_pred, average='macro')\n",
    "\n",
    "precision_micro = precision_score(y_test, y_pred, average='micro')\n",
    "recall_micro = recall_score(y_test, y_pred, average='micro')\n",
    "\n",
    "print(f\"MACROS: Precision: {precision_macro}  Recall: {recall_macro} \")\n",
    "print(f\"MICROS: Precision: {precision_micro}  Recall: {recall_micro} \")"
   ]
  }
 ],
 "metadata": {
  "kernelspec": {
   "display_name": "semeval1",
   "language": "python",
   "name": "python3"
  },
  "language_info": {
   "codemirror_mode": {
    "name": "ipython",
    "version": 3
   },
   "file_extension": ".py",
   "mimetype": "text/x-python",
   "name": "python",
   "nbconvert_exporter": "python",
   "pygments_lexer": "ipython3",
   "version": "3.11.10"
  }
 },
 "nbformat": 4,
 "nbformat_minor": 5
}
